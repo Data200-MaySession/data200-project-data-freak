{
 "cells": [
  {
   "cell_type": "code",
   "execution_count": 1,
   "id": "0423ef0f",
   "metadata": {},
   "outputs": [],
   "source": [
    "import pandas as pd\n",
    "\n",
    "# Load data\n",
    "matches = pd.read_csv(\"matches.csv\")\n",
    "deliveries = pd.read_csv(\"deliveries.csv\")\n",
    "\n",
    "# Clean data (drop NaN in key columns)\n",
    "matches = matches.dropna(subset=['winner', 'venue'])\n",
    "\n",
    "# Best Batsman\n",
    "best_batsman = deliveries.groupby(\"batter\")[\"batsman_runs\"].sum().sort_values(ascending=False).head(10).reset_index()\n",
    "\n",
    "# Best Bowler (most wickets)\n",
    "wickets = deliveries[deliveries[\"is_wicket\"] == 1]\n",
    "best_bowler = wickets.groupby(\"bowler\").size().sort_values(ascending=False).head(10).reset_index(name=\"wickets\")\n",
    "\n",
    "# Win % between teams\n",
    "def get_head_to_head(team1, team2):\n",
    "    df = matches[((matches[\"team1\"] == team1) & (matches[\"team2\"] == team2)) |\n",
    "                 ((matches[\"team1\"] == team2) & (matches[\"team2\"] == team1))]\n",
    "    win1 = (df[\"winner\"] == team1).sum()\n",
    "    win2 = (df[\"winner\"] == team2).sum()\n",
    "    total = len(df)\n",
    "    return {\n",
    "        team1: f\"{win1 / total * 100:.1f}%\" if total else \"N/A\",\n",
    "        team2: f\"{win2 / total * 100:.1f}%\" if total else \"N/A\",\n",
    "        \"total_matches\": total\n",
    "    }\n",
    "\n",
    "# Toss decision stats\n",
    "def get_toss_decision_stats(team):\n",
    "    df = matches[matches[\"toss_winner\"] == team]\n",
    "    bat = (df[\"toss_decision\"] == \"bat\").sum()\n",
    "    field = (df[\"toss_decision\"] == \"field\").sum()\n",
    "    total = len(df)\n",
    "    return {\n",
    "        \"bat\": f\"{bat / total * 100:.1f}%\" if total else \"N/A\",\n",
    "        \"field\": f\"{field / total * 100:.1f}%\" if total else \"N/A\"\n",
    "    }\n",
    "\n",
    "# Venue average runs\n",
    "def get_average_runs_in_venue(venue):\n",
    "    return matches[matches[\"venue\"] == venue][\"target_runs\"].mean()\n",
    "\n",
    "# Average score for a team when batting first\n",
    "def team_avg_runs_batting_first(team):\n",
    "    df = matches[(matches[\"toss_winner\"] == team) & (matches[\"toss_decision\"] == \"bat\")]\n",
    "    return df[\"target_runs\"].mean()\n",
    "\n",
    "# Save precomputed best players\n",
    "best_batsman.to_csv(\"stats_best_batsman.csv\", index=False)\n",
    "best_bowler.to_csv(\"stats_best_bowler.csv\", index=False)\n"
   ]
  }
 ],
 "metadata": {
  "kernelspec": {
   "display_name": "Python 3",
   "language": "python",
   "name": "python3"
  },
  "language_info": {
   "codemirror_mode": {
    "name": "ipython",
    "version": 3
   },
   "file_extension": ".py",
   "mimetype": "text/x-python",
   "name": "python",
   "nbconvert_exporter": "python",
   "pygments_lexer": "ipython3",
   "version": "3.13.5"
  }
 },
 "nbformat": 4,
 "nbformat_minor": 5
}
